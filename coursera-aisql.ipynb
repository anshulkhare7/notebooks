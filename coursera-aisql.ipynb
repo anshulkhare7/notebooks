{
 "cells": [
  {
   "cell_type": "code",
   "execution_count": 1,
   "id": "d1136df7-e5a1-418d-863a-377f37cb40f6",
   "metadata": {},
   "outputs": [
    {
     "name": "stdout",
     "output_type": "stream",
     "text": [
      "\u001b[31mERROR: Could not find a version that satisfies the requirement os (from versions: none)\u001b[0m\u001b[31m\n",
      "\u001b[0m\u001b[31mERROR: No matching distribution found for os\u001b[0m\u001b[31m\n",
      "\u001b[0mRequirement already satisfied: pandas in /Users/anshul/anaconda3/envs/jupy-nb/lib/python3.12/site-packages (2.2.3)\n",
      "Requirement already satisfied: numpy>=1.26.0 in /Users/anshul/anaconda3/envs/jupy-nb/lib/python3.12/site-packages (from pandas) (1.26.4)\n",
      "Requirement already satisfied: python-dateutil>=2.8.2 in /Users/anshul/anaconda3/envs/jupy-nb/lib/python3.12/site-packages (from pandas) (2.9.0)\n",
      "Requirement already satisfied: pytz>=2020.1 in /Users/anshul/anaconda3/envs/jupy-nb/lib/python3.12/site-packages (from pandas) (2024.1)\n",
      "Requirement already satisfied: tzdata>=2022.7 in /Users/anshul/anaconda3/envs/jupy-nb/lib/python3.12/site-packages (from pandas) (2024.2)\n",
      "Requirement already satisfied: six>=1.5 in /Users/anshul/anaconda3/envs/jupy-nb/lib/python3.12/site-packages (from python-dateutil>=2.8.2->pandas) (1.16.0)\n",
      "Requirement already satisfied: sqlalchemy in /Users/anshul/anaconda3/envs/jupy-nb/lib/python3.12/site-packages (2.0.31)\n",
      "Requirement already satisfied: typing-extensions>=4.6.0 in /Users/anshul/anaconda3/envs/jupy-nb/lib/python3.12/site-packages (from sqlalchemy) (4.12.2)\n",
      "Requirement already satisfied: openai==0.28 in /Users/anshul/anaconda3/envs/jupy-nb/lib/python3.12/site-packages (0.28.0)\n",
      "Requirement already satisfied: requests>=2.20 in /Users/anshul/anaconda3/envs/jupy-nb/lib/python3.12/site-packages (from openai==0.28) (2.32.3)\n",
      "Requirement already satisfied: tqdm in /Users/anshul/anaconda3/envs/jupy-nb/lib/python3.12/site-packages (from openai==0.28) (4.66.4)\n",
      "Requirement already satisfied: aiohttp in /Users/anshul/anaconda3/envs/jupy-nb/lib/python3.12/site-packages (from openai==0.28) (3.9.5)\n",
      "Requirement already satisfied: charset-normalizer<4,>=2 in /Users/anshul/anaconda3/envs/jupy-nb/lib/python3.12/site-packages (from requests>=2.20->openai==0.28) (3.3.2)\n",
      "Requirement already satisfied: idna<4,>=2.5 in /Users/anshul/anaconda3/envs/jupy-nb/lib/python3.12/site-packages (from requests>=2.20->openai==0.28) (3.7)\n",
      "Requirement already satisfied: urllib3<3,>=1.21.1 in /Users/anshul/anaconda3/envs/jupy-nb/lib/python3.12/site-packages (from requests>=2.20->openai==0.28) (2.2.2)\n",
      "Requirement already satisfied: certifi>=2017.4.17 in /Users/anshul/anaconda3/envs/jupy-nb/lib/python3.12/site-packages (from requests>=2.20->openai==0.28) (2024.7.4)\n",
      "Requirement already satisfied: aiosignal>=1.1.2 in /Users/anshul/anaconda3/envs/jupy-nb/lib/python3.12/site-packages (from aiohttp->openai==0.28) (1.3.1)\n",
      "Requirement already satisfied: attrs>=17.3.0 in /Users/anshul/anaconda3/envs/jupy-nb/lib/python3.12/site-packages (from aiohttp->openai==0.28) (23.2.0)\n",
      "Requirement already satisfied: frozenlist>=1.1.1 in /Users/anshul/anaconda3/envs/jupy-nb/lib/python3.12/site-packages (from aiohttp->openai==0.28) (1.4.1)\n",
      "Requirement already satisfied: multidict<7.0,>=4.5 in /Users/anshul/anaconda3/envs/jupy-nb/lib/python3.12/site-packages (from aiohttp->openai==0.28) (6.0.5)\n",
      "Requirement already satisfied: yarl<2.0,>=1.0 in /Users/anshul/anaconda3/envs/jupy-nb/lib/python3.12/site-packages (from aiohttp->openai==0.28) (1.9.4)\n"
     ]
    }
   ],
   "source": [
    "# !pip3 install openai\n",
    "!pip3 install os\n",
    "!pip3 install pandas\n",
    "!pip3 install sqlalchemy\n",
    "!pip install openai==0.28\n",
    "\n",
    "import openai\n",
    "import os\n",
    "import pandas as pd\n",
    "from sqlalchemy import create_engine, text\n",
    "\n",
    "os.environ[\"API_KEY\"] = \"<OPENAI_API_KEY>\"\n",
    "openai.api_key = os.getenv(\"API_KEY\")\n",
    "\n",
    "# print(openai.api_key)"
   ]
  },
  {
   "cell_type": "code",
   "execution_count": 2,
   "id": "2c54cbaa-44cb-4501-99c5-74c61f5d5dd5",
   "metadata": {},
   "outputs": [
    {
     "name": "stdout",
     "output_type": "stream",
     "text": [
      "Index(['ORDERNUMBER', 'QUANTITYORDERED', 'PRICEEACH', 'ORDERLINENUMBER',\n",
      "       'SALES', 'ORDERDATE', 'STATUS', 'QTR_ID', 'MONTH_ID', 'YEAR_ID',\n",
      "       'PRODUCTLINE', 'MSRP', 'PRODUCTCODE', 'CUSTOMERNAME', 'PHONE',\n",
      "       'ADDRESSLINE1', 'ADDRESSLINE2', 'CITY', 'STATE', 'POSTALCODE',\n",
      "       'COUNTRY', 'TERRITORY', 'CONTACTLASTNAME', 'CONTACTFIRSTNAME',\n",
      "       'DEALSIZE'],\n",
      "      dtype='object')\n"
     ]
    }
   ],
   "source": [
    "csv_file_path = '/Users/anshul/_learning/ai/coursera-aiSQLQueries/customer_orders.csv'\n",
    "data_frame = pd.read_csv(csv_file_path)\n",
    "# print(data_frame)\n",
    "# print(data_frame.head())\n",
    "# print(data_frame.dtypes)\n",
    "print(data_frame.columns)"
   ]
  },
  {
   "cell_type": "code",
   "execution_count": 3,
   "id": "a828f903-013c-4e15-8477-08db8d0861f9",
   "metadata": {},
   "outputs": [
    {
     "name": "stdout",
     "output_type": "stream",
     "text": [
      "2024-09-24 11:44:36,883 INFO sqlalchemy.engine.Engine BEGIN (implicit)\n",
      "2024-09-24 11:44:36,886 INFO sqlalchemy.engine.Engine PRAGMA main.table_info(\"SalesTable\")\n",
      "2024-09-24 11:44:36,886 INFO sqlalchemy.engine.Engine [raw sql] ()\n",
      "2024-09-24 11:44:36,887 INFO sqlalchemy.engine.Engine PRAGMA temp.table_info(\"SalesTable\")\n",
      "2024-09-24 11:44:36,887 INFO sqlalchemy.engine.Engine [raw sql] ()\n",
      "2024-09-24 11:44:36,888 INFO sqlalchemy.engine.Engine \n",
      "CREATE TABLE \"SalesTable\" (\n",
      "\t\"index\" BIGINT, \n",
      "\t\"ORDERNUMBER\" BIGINT, \n",
      "\t\"QUANTITYORDERED\" BIGINT, \n",
      "\t\"PRICEEACH\" FLOAT, \n",
      "\t\"ORDERLINENUMBER\" BIGINT, \n",
      "\t\"SALES\" FLOAT, \n",
      "\t\"ORDERDATE\" TEXT, \n",
      "\t\"STATUS\" TEXT, \n",
      "\t\"QTR_ID\" BIGINT, \n",
      "\t\"MONTH_ID\" BIGINT, \n",
      "\t\"YEAR_ID\" BIGINT, \n",
      "\t\"PRODUCTLINE\" TEXT, \n",
      "\t\"MSRP\" BIGINT, \n",
      "\t\"PRODUCTCODE\" TEXT, \n",
      "\t\"CUSTOMERNAME\" TEXT, \n",
      "\t\"PHONE\" TEXT, \n",
      "\t\"ADDRESSLINE1\" TEXT, \n",
      "\t\"ADDRESSLINE2\" TEXT, \n",
      "\t\"CITY\" TEXT, \n",
      "\t\"STATE\" TEXT, \n",
      "\t\"POSTALCODE\" TEXT, \n",
      "\t\"COUNTRY\" TEXT, \n",
      "\t\"TERRITORY\" TEXT, \n",
      "\t\"CONTACTLASTNAME\" TEXT, \n",
      "\t\"CONTACTFIRSTNAME\" TEXT, \n",
      "\t\"DEALSIZE\" TEXT\n",
      ")\n",
      "\n",
      "\n",
      "2024-09-24 11:44:36,888 INFO sqlalchemy.engine.Engine [no key 0.00034s] ()\n",
      "2024-09-24 11:44:36,890 INFO sqlalchemy.engine.Engine CREATE INDEX \"ix_SalesTable_index\" ON \"SalesTable\" (\"index\")\n",
      "2024-09-24 11:44:36,890 INFO sqlalchemy.engine.Engine [no key 0.00039s] ()\n",
      "2024-09-24 11:44:36,911 INFO sqlalchemy.engine.Engine INSERT INTO \"SalesTable\" (\"index\", \"ORDERNUMBER\", \"QUANTITYORDERED\", \"PRICEEACH\", \"ORDERLINENUMBER\", \"SALES\", \"ORDERDATE\", \"STATUS\", \"QTR_ID\", \"MONTH_ID\", \"YEAR_ID\", \"PRODUCTLINE\", \"MSRP\", \"PRODUCTCODE\", \"CUSTOMERNAME\", \"PHONE\", \"ADDRESSLINE1\", \"ADDRESSLINE2\", \"CITY\", \"STATE\", \"POSTALCODE\", \"COUNTRY\", \"TERRITORY\", \"CONTACTLASTNAME\", \"CONTACTFIRSTNAME\", \"DEALSIZE\") VALUES (?, ?, ?, ?, ?, ?, ?, ?, ?, ?, ?, ?, ?, ?, ?, ?, ?, ?, ?, ?, ?, ?, ?, ?, ?, ?)\n",
      "2024-09-24 11:44:36,912 INFO sqlalchemy.engine.Engine [generated in 0.01394s] [(0, 10107, 30, 95.7, 2, 2871.0, '2/24/2003 0:00', 'Shipped', 1, 2, 2003, 'Motorcycles', 95, 'S10_1678', 'Land of Toys Inc.', '2125557818', '897 Long Airport Avenue', None, 'NYC', 'NY', '10022', 'USA', None, 'Yu', 'Kwai', 'Small'), (1, 10121, 34, 81.35, 5, 2765.9, '5/7/2003 0:00', 'Shipped', 2, 5, 2003, 'Motorcycles', 95, 'S10_1678', 'Reims Collectables', '26.47.1555', \"59 rue de l'Abbaye\", None, 'Reims', None, '51100', 'France', 'EMEA', 'Henriot', 'Paul', 'Small'), (2, 10134, 41, 94.74, 2, 3884.34, '7/1/2003 0:00', 'Shipped', 3, 7, 2003, 'Motorcycles', 95, 'S10_1678', 'Lyon Souveniers', '+33 1 46 62 7555', '27 rue du Colonel Pierre Avia', None, 'Paris', None, '75508', 'France', 'EMEA', 'Da Cunha', 'Daniel', 'Medium'), (3, 10145, 45, 83.26, 6, 3746.7, '8/25/2003 0:00', 'Shipped', 3, 8, 2003, 'Motorcycles', 95, 'S10_1678', 'Toys4GrownUps.com', '6265557265', '78934 Hillside Dr.', None, 'Pasadena', 'CA', '90003', 'USA', None, 'Young', 'Julie', 'Medium'), (4, 10159, 49, 100.0, 14, 5205.27, '10/10/2003 0:00', 'Shipped', 4, 10, 2003, 'Motorcycles', 95, 'S10_1678', 'Corporate Gift Ideas Co.', '6505551386', '7734 Strong St.', None, 'San Francisco', 'CA', None, 'USA', None, 'Brown', 'Julie', 'Medium'), (5, 10168, 36, 96.66, 1, 3479.76, '10/28/2003 0:00', 'Shipped', 4, 10, 2003, 'Motorcycles', 95, 'S10_1678', 'Technics Stores Inc.', '6505556809', '9408 Furth Circle', None, 'Burlingame', 'CA', '94217', 'USA', None, 'Hirano', 'Juri', 'Medium'), (6, 10180, 29, 86.13, 9, 2497.77, '11/11/2003 0:00', 'Shipped', 4, 11, 2003, 'Motorcycles', 95, 'S10_1678', 'Daedalus Designs Imports', '20.16.1555', '184, chausse de Tournai', None, 'Lille', None, '59000', 'France', 'EMEA', 'Rance', 'Martine', 'Small'), (7, 10188, 48, 100.0, 1, 5512.32, '11/18/2003 0:00', 'Shipped', 4, 11, 2003, 'Motorcycles', 95, 'S10_1678', 'Herkku Gifts', '+47 2267 3215', 'Drammen 121, PR 744 Sentrum', None, 'Bergen', None, 'N 5804', 'Norway', 'EMEA', 'Oeztan', 'Veysel', 'Medium')  ... displaying 10 of 2823 total bound parameter sets ...  (2821, 10397, 34, 62.24, 1, 2116.16, '3/28/2005 0:00', 'Shipped', 1, 3, 2005, 'Ships', 54, 'S72_3212', 'Alpha Cognac', '61.77.6555', '1 rue Alsace-Lorraine', None, 'Toulouse', None, '31000', 'France', 'EMEA', 'Roulet', 'Annette', 'Small'), (2822, 10414, 47, 65.52, 9, 3079.44, '5/6/2005 0:00', 'On Hold', 2, 5, 2005, 'Ships', 54, 'S72_3212', 'Gifts4AllAges.com', '6175559555', '8616 Spinnaker Dr.', None, 'Boston', 'MA', '51003', 'USA', None, 'Yoshido', 'Juri', 'Medium')]\n",
      "2024-09-24 11:44:36,920 INFO sqlalchemy.engine.Engine SELECT name FROM sqlite_master WHERE type='table' AND name NOT LIKE 'sqlite~_%' ESCAPE '~' ORDER BY name\n",
      "2024-09-24 11:44:36,920 INFO sqlalchemy.engine.Engine [raw sql] ()\n",
      "2024-09-24 11:44:36,920 INFO sqlalchemy.engine.Engine COMMIT\n"
     ]
    },
    {
     "data": {
      "text/plain": [
       "2823"
      ]
     },
     "execution_count": 3,
     "metadata": {},
     "output_type": "execute_result"
    }
   ],
   "source": [
    "engine = create_engine('sqlite:///:memory:', echo=True)\n",
    "data_frame.to_sql(\"SalesTable\", engine)"
   ]
  },
  {
   "cell_type": "code",
   "execution_count": 4,
   "id": "31b5e3fe-45ba-4613-b803-d9d4e461cb75",
   "metadata": {},
   "outputs": [],
   "source": [
    "def execute_sql_query(connection, query):\n",
    "    result_obj = connection.execute(text(query))\n",
    "    return result_obj.fetchall()"
   ]
  },
  {
   "cell_type": "code",
   "execution_count": 5,
   "id": "cbc46f2a-b1fe-46be-bd8a-a9a4d20d6f90",
   "metadata": {},
   "outputs": [
    {
     "name": "stdout",
     "output_type": "stream",
     "text": [
      "2024-09-24 11:44:36,927 INFO sqlalchemy.engine.Engine BEGIN (implicit)\n",
      "2024-09-24 11:44:36,927 INFO sqlalchemy.engine.Engine Select sum(sales) from SalesTable\n",
      "2024-09-24 11:44:36,928 INFO sqlalchemy.engine.Engine [generated in 0.00072s] ()\n",
      "Sum of sales: [(10032628.85,)]\n",
      "2024-09-24 11:44:36,928 INFO sqlalchemy.engine.Engine ROLLBACK\n"
     ]
    }
   ],
   "source": [
    "\n",
    "with engine.connect() as conn:\n",
    "    sales_sum_result = execute_sql_query(conn, \"Select sum(sales) from SalesTable\")\n",
    "    print(f\"Sum of sales: {sales_sum_result}\")"
   ]
  },
  {
   "cell_type": "code",
   "execution_count": 6,
   "id": "af16f090-062a-475d-9fe6-fb0ded883d9e",
   "metadata": {},
   "outputs": [
    {
     "name": "stdin",
     "output_type": "stream",
     "text": [
      "Enter your query:  get sum of all sales\n"
     ]
    },
    {
     "name": "stdout",
     "output_type": "stream",
     "text": [
      "### SQLite Table Schema: \n",
      "# SalesTable(ORDERNUMBER, QUANTITYORDERED, PRICEEACH, ORDERLINENUMBER, SALES, ORDERDATE, STATUS, QTR_ID, MONTH_ID, YEAR_ID, PRODUCTLINE, MSRP, PRODUCTCODE, CUSTOMERNAME, PHONE, ADDRESSLINE1, ADDRESSLINE2, CITY, STATE, POSTALCODE, COUNTRY, TERRITORY, CONTACTLASTNAME, CONTACTFIRSTNAME, DEALSIZE) \n",
      "### Query to answer: get sum of all sales\n",
      " SELECT\n"
     ]
    }
   ],
   "source": [
    "def table_schema_prompt(df):\n",
    "    columns = \", \".join(df.columns)\n",
    "    return f\"### SQLite Table Schema: \\n# SalesTable({columns}) \\n\"\n",
    "\n",
    "def get_user_input():\n",
    "    return input(\"Enter your query: \")\n",
    "\n",
    "def full_prompt(df, user_prompt):\n",
    "    schema_prompt = table_schema_prompt(df)\n",
    "    return f\"{schema_prompt}### Query to answer: {user_prompt}\\n SELECT\"\n",
    "\n",
    "user_prompt = get_user_input()\n",
    "complete_prompt = full_prompt(data_frame, user_prompt)\n",
    "\n",
    "print(complete_prompt)\n",
    "\n"
   ]
  },
  {
   "cell_type": "code",
   "execution_count": 12,
   "id": "4bd4d5fb-086f-4454-84e4-6097b4575934",
   "metadata": {},
   "outputs": [],
   "source": [
    "response = openai.Completion.create(\n",
    "    model=\"gpt-3.5-turbo-instruct\",\n",
    "    prompt=complete_prompt,\n",
    "    temperature=0,\n",
    "    max_tokens=150\n",
    ")\n",
    "\n",
    "def process_repsonse(res):\n",
    "    raw_query = res['choices'][0]['text'].strip()\n",
    "    if not raw_query.upper().startswith(\"SELECT\"):\n",
    "        raw_query = f\"SELECT {raw_query}\"\n",
    "    return raw_query\n",
    "    "
   ]
  },
  {
   "cell_type": "code",
   "execution_count": 19,
   "id": "06293185-2613-491c-8bc0-3cc24c881dd2",
   "metadata": {},
   "outputs": [],
   "source": [
    "final_query = process_repsonse(response)"
   ]
  },
  {
   "cell_type": "code",
   "execution_count": 20,
   "id": "2f88effe-b37c-40e1-84c1-b96bc17306e2",
   "metadata": {},
   "outputs": [
    {
     "name": "stdout",
     "output_type": "stream",
     "text": [
      "2024-09-24 11:53:15,653 INFO sqlalchemy.engine.Engine BEGIN (implicit)\n",
      "2024-09-24 11:53:15,654 INFO sqlalchemy.engine.Engine SELECT SUM(SALES) FROM SalesTable;\n",
      "2024-09-24 11:53:15,654 INFO sqlalchemy.engine.Engine [generated in 0.00187s] ()\n",
      "2024-09-24 11:53:15,661 INFO sqlalchemy.engine.Engine ROLLBACK\n",
      "Final results: [(10032628.85,)]\n"
     ]
    }
   ],
   "source": [
    "with engine.connect() as conn:\n",
    "    final_results = execute_sql_query(conn, final_query)\n",
    "print(f\"Final results: {final_results}\")"
   ]
  }
 ],
 "metadata": {
  "kernelspec": {
   "display_name": "Python 3 (ipykernel)",
   "language": "python",
   "name": "python3"
  },
  "language_info": {
   "codemirror_mode": {
    "name": "ipython",
    "version": 3
   },
   "file_extension": ".py",
   "mimetype": "text/x-python",
   "name": "python",
   "nbconvert_exporter": "python",
   "pygments_lexer": "ipython3",
   "version": "3.12.4"
  }
 },
 "nbformat": 4,
 "nbformat_minor": 5
}
