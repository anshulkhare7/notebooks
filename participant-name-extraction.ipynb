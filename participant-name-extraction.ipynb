{
 "cells": [
  {
   "cell_type": "code",
   "execution_count": 19,
   "id": "8deca410-fce1-4e30-96eb-622f1b79e92e",
   "metadata": {},
   "outputs": [
    {
     "name": "stdout",
     "output_type": "stream",
     "text": [
      "Requirement already satisfied: PyPDF2 in /Users/anshul/anaconda3/envs/jupy-nb/lib/python3.12/site-packages (3.0.1)\n",
      "Requirement already satisfied: transformers in /Users/anshul/anaconda3/envs/jupy-nb/lib/python3.12/site-packages (4.45.1)\n",
      "Requirement already satisfied: torch in /Users/anshul/anaconda3/envs/jupy-nb/lib/python3.12/site-packages (2.4.1)\n",
      "Requirement already satisfied: filelock in /Users/anshul/anaconda3/envs/jupy-nb/lib/python3.12/site-packages (from transformers) (3.16.1)\n",
      "Requirement already satisfied: huggingface-hub<1.0,>=0.23.2 in /Users/anshul/anaconda3/envs/jupy-nb/lib/python3.12/site-packages (from transformers) (0.25.1)\n",
      "Requirement already satisfied: numpy>=1.17 in /Users/anshul/anaconda3/envs/jupy-nb/lib/python3.12/site-packages (from transformers) (1.26.4)\n",
      "Requirement already satisfied: packaging>=20.0 in /Users/anshul/anaconda3/envs/jupy-nb/lib/python3.12/site-packages (from transformers) (24.1)\n",
      "Requirement already satisfied: pyyaml>=5.1 in /Users/anshul/anaconda3/envs/jupy-nb/lib/python3.12/site-packages (from transformers) (6.0.1)\n",
      "Requirement already satisfied: regex!=2019.12.17 in /Users/anshul/anaconda3/envs/jupy-nb/lib/python3.12/site-packages (from transformers) (2024.9.11)\n",
      "Requirement already satisfied: requests in /Users/anshul/anaconda3/envs/jupy-nb/lib/python3.12/site-packages (from transformers) (2.32.3)\n",
      "Requirement already satisfied: safetensors>=0.4.1 in /Users/anshul/anaconda3/envs/jupy-nb/lib/python3.12/site-packages (from transformers) (0.4.5)\n",
      "Requirement already satisfied: tokenizers<0.21,>=0.20 in /Users/anshul/anaconda3/envs/jupy-nb/lib/python3.12/site-packages (from transformers) (0.20.0)\n",
      "Requirement already satisfied: tqdm>=4.27 in /Users/anshul/anaconda3/envs/jupy-nb/lib/python3.12/site-packages (from transformers) (4.66.4)\n",
      "Requirement already satisfied: typing-extensions>=4.8.0 in /Users/anshul/anaconda3/envs/jupy-nb/lib/python3.12/site-packages (from torch) (4.12.2)\n",
      "Requirement already satisfied: sympy in /Users/anshul/anaconda3/envs/jupy-nb/lib/python3.12/site-packages (from torch) (1.13.3)\n",
      "Requirement already satisfied: networkx in /Users/anshul/anaconda3/envs/jupy-nb/lib/python3.12/site-packages (from torch) (3.3)\n",
      "Requirement already satisfied: jinja2 in /Users/anshul/anaconda3/envs/jupy-nb/lib/python3.12/site-packages (from torch) (3.1.4)\n",
      "Requirement already satisfied: fsspec in /Users/anshul/anaconda3/envs/jupy-nb/lib/python3.12/site-packages (from torch) (2024.9.0)\n",
      "Requirement already satisfied: setuptools in /Users/anshul/anaconda3/envs/jupy-nb/lib/python3.12/site-packages (from torch) (69.5.1)\n",
      "Requirement already satisfied: MarkupSafe>=2.0 in /Users/anshul/anaconda3/envs/jupy-nb/lib/python3.12/site-packages (from jinja2->torch) (2.1.3)\n",
      "Requirement already satisfied: charset-normalizer<4,>=2 in /Users/anshul/anaconda3/envs/jupy-nb/lib/python3.12/site-packages (from requests->transformers) (3.3.2)\n",
      "Requirement already satisfied: idna<4,>=2.5 in /Users/anshul/anaconda3/envs/jupy-nb/lib/python3.12/site-packages (from requests->transformers) (3.7)\n",
      "Requirement already satisfied: urllib3<3,>=1.21.1 in /Users/anshul/anaconda3/envs/jupy-nb/lib/python3.12/site-packages (from requests->transformers) (2.2.2)\n",
      "Requirement already satisfied: certifi>=2017.4.17 in /Users/anshul/anaconda3/envs/jupy-nb/lib/python3.12/site-packages (from requests->transformers) (2024.7.4)\n",
      "Requirement already satisfied: mpmath<1.4,>=1.1.0 in /Users/anshul/anaconda3/envs/jupy-nb/lib/python3.12/site-packages (from sympy->torch) (1.3.0)\n"
     ]
    }
   ],
   "source": [
    "!pip install PyPDF2 transformers torch"
   ]
  },
  {
   "cell_type": "code",
   "execution_count": 20,
   "id": "a1d3cd31-aa7a-4091-89f3-108241df3133",
   "metadata": {},
   "outputs": [],
   "source": [
    "import PyPDF2\n",
    "import torch\n",
    "from collections import Counter\n",
    "from transformers import pipeline\n",
    "\n",
    "# Extract text from PDF using PyPDF2\n",
    "def extract_text_from_pdf(pdf_path):\n",
    "    with open(pdf_path, 'rb') as file:\n",
    "        reader = PyPDF2.PdfReader(file)\n",
    "        text = ''\n",
    "        for page in reader.pages:\n",
    "            text += page.extract_text() + '\\n'\n",
    "    return text"
   ]
  },
  {
   "cell_type": "code",
   "execution_count": 21,
   "id": "1b1f3897-e068-47a2-adc8-f8cf5f94be6c",
   "metadata": {},
   "outputs": [],
   "source": [
    "def extract_organizations(text, ner_pipeline):\n",
    "    # Split the text into chunks of 500 characters with 100 character overlap\n",
    "    chunk_size = 500\n",
    "    overlap = 100\n",
    "    chunks = [text[i:i+chunk_size] for i in range(0, len(text), chunk_size-overlap)]\n",
    "    \n",
    "    all_entities = []\n",
    "    for chunk in chunks:\n",
    "        entities = ner_pipeline(chunk)\n",
    "        all_entities.extend(entities)\n",
    "    \n",
    "    # Extract organization names\n",
    "    org_names = []\n",
    "    current_org = \"\"\n",
    "    for entity in all_entities:\n",
    "        if entity['entity'].startswith('B-ORG'):\n",
    "            if current_org:\n",
    "                org_names.append(current_org.strip())\n",
    "            current_org = entity['word']\n",
    "        elif entity['entity'].startswith('I-ORG'):\n",
    "            current_org += \" \" + entity['word']\n",
    "        else:\n",
    "            if current_org:\n",
    "                org_names.append(current_org.strip())\n",
    "                current_org = \"\"\n",
    "    \n",
    "    if current_org:\n",
    "        org_names.append(current_org.strip())\n",
    "    \n",
    "    return org_names\n",
    "\n",
    "def clean_org_name(name):\n",
    "    # Remove special characters and extra whitespace\n",
    "    cleaned = ' '.join(name.split())\n",
    "    return cleaned\n",
    "\n",
    "def extract_participant_org(pdf_path):\n",
    "    # Determine the appropriate device\n",
    "    device = torch.device(\"mps\" if torch.backends.mps.is_available() else \"cuda\" if torch.cuda.is_available() else \"cpu\")\n",
    "    \n",
    "    # Load a more accurate NER model\n",
    "    ner_pipeline = pipeline(\"ner\", model=\"Jean-Baptiste/roberta-large-ner-english\", device=device)\n",
    "    \n",
    "    text = extract_text_from_pdf(pdf_path)\n",
    "    org_names = extract_organizations(text, ner_pipeline)\n",
    "    \n",
    "    # Clean and count organization names\n",
    "    cleaned_org_names = [clean_org_name(name) for name in org_names]\n",
    "    org_counts = Counter(cleaned_org_names)\n",
    "    \n",
    "    # Get the top 3 most common organizations\n",
    "    top_orgs = org_counts.most_common(3)\n",
    "    \n",
    "    return top_orgs"
   ]
  },
  {
   "cell_type": "code",
   "execution_count": 22,
   "id": "312a227a-b345-47c1-8a8b-61c674e98941",
   "metadata": {},
   "outputs": [],
   "source": [
    "\n",
    "#file_path = \"your_pdf_file_path\"\n",
    "# IFrame(file_path, width=800, height=600)"
   ]
  },
  {
   "cell_type": "code",
   "execution_count": 24,
   "id": "a6b21122-afb4-4e5d-9fa1-f13bf88d44d9",
   "metadata": {},
   "outputs": [
    {
     "name": "stdout",
     "output_type": "stream",
     "text": [
      "Top 3 potential participant organizations:\n",
      "\n",
      "Using device: mps\n"
     ]
    }
   ],
   "source": [
    "top_participant_orgs = extract_participant_org(file_path)\n",
    "print(\"Top 3 potential participant organizations:\")\n",
    "for org, count in top_participant_orgs:\n",
    "    print(f\"{org}: {count} occurrences\")\n",
    "\n",
    "print(f\"\\nUsing device: {torch.device('mps' if torch.backends.mps.is_available() else 'cuda' if torch.cuda.is_available() else 'cpu')}\")"
   ]
  }
 ],
 "metadata": {
  "kernelspec": {
   "display_name": "Python 3 (ipykernel)",
   "language": "python",
   "name": "python3"
  },
  "language_info": {
   "codemirror_mode": {
    "name": "ipython",
    "version": 3
   },
   "file_extension": ".py",
   "mimetype": "text/x-python",
   "name": "python",
   "nbconvert_exporter": "python",
   "pygments_lexer": "ipython3",
   "version": "3.12.4"
  }
 },
 "nbformat": 4,
 "nbformat_minor": 5
}
