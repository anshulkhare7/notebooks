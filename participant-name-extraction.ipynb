{
 "cells": [
  {
   "cell_type": "code",
   "execution_count": null,
   "id": "c2e0638b-4a9a-4350-bc42-7d178b5c536d",
   "metadata": {},
   "outputs": [],
   "source": [
    "!pip install PyPDF2 pdfplumber spacy nltk\n",
    "!python -m spacy download en_core_web_sm\n",
    "!python -m spacy download en_core_web_md"
   ]
  },
  {
   "cell_type": "code",
   "execution_count": 100,
   "id": "a1d3cd31-aa7a-4091-89f3-108241df3133",
   "metadata": {},
   "outputs": [],
   "source": [
    "from nltk.corpus import stopwords\n",
    "from nltk.tokenize import word_tokenize\n",
    "from IPython.display import IFrame\n",
    "import pdfplumber\n",
    "import spacy\n",
    "import PyPDF2\n",
    "\n",
    "# Extract text from PDF using pdfplumber\n",
    "def pdf_to_text_pdfplumber(file_path):\n",
    "    text = \"\"    \n",
    "    with pdfplumber.open(file_path) as pdf:        \n",
    "        for page in pdf.pages:            \n",
    "            text += page.extract_text()\n",
    "    return text\n",
    "\n",
    "# Extract text from PDF using PyPDF2\n",
    "def pdf_to_text_pypdf2(file_path):\n",
    "    with open(file_path, 'rb') as pdf_file:\n",
    "        pdf_reader = PyPDF2.PdfReader(pdf_file)\n",
    "        text = \"\"\n",
    "        for page_num in range(len(pdf_reader.pages)):\n",
    "            page = pdf_reader.pages[page_num]\n",
    "            text += page.extract_text()\n",
    "        return text"
   ]
  },
  {
   "cell_type": "code",
   "execution_count": 101,
   "id": "00a3cb2b-1b0c-4a8a-b39d-57561da5984b",
   "metadata": {},
   "outputs": [],
   "source": [
    "# nlp = spacy.load(\"en_core_web_sm\")\n",
    "nlp = spacy.load(\"en_core_web_md\")"
   ]
  },
  {
   "cell_type": "code",
   "execution_count": 102,
   "id": "312a227a-b345-47c1-8a8b-61c674e98941",
   "metadata": {},
   "outputs": [],
   "source": [
    "\n",
    "#file_path = \"your_pdf_file_path\"\n",
    "# IFrame(file_path, width=800, height=600)"
   ]
  },
  {
   "cell_type": "code",
   "execution_count": null,
   "id": "df5a4e4e-a3ec-4587-b55c-f8764147e794",
   "metadata": {},
   "outputs": [],
   "source": [
    "#print(nlp.get_pipe(\"ner\").labels)"
   ]
  },
  {
   "cell_type": "code",
   "execution_count": 104,
   "id": "c96b37a3-0ed0-49be-8163-77df65c96270",
   "metadata": {},
   "outputs": [],
   "source": [
    "#text = pdf_to_text_pdfplumber(file_path)\n",
    "text = pdf_to_text_pypdf2(file_path)\n",
    "# print(text)"
   ]
  },
  {
   "cell_type": "code",
   "execution_count": null,
   "id": "c116b608-e624-41f8-ac29-eccba2c44c1a",
   "metadata": {},
   "outputs": [],
   "source": [
    "# Preprocess text: remove stop words, convert to lowercase\n",
    "stop_words = set(stopwords.words(\"english\"))\n",
    "tokens = word_tokenize(text.lower())\n",
    "tokens = [t for t in tokens if t not in stop_words]\n",
    "doc = nlp(\" \".join(tokens))"
   ]
  },
  {
   "cell_type": "code",
   "execution_count": 105,
   "id": "9e9f47bd-b034-4730-b94d-6f23994528cd",
   "metadata": {},
   "outputs": [],
   "source": [
    "# Process the text with SpaCy\n",
    "doc = nlp(text)"
   ]
  },
  {
   "cell_type": "code",
   "execution_count": 110,
   "id": "9ef5cdf7-e5dc-4609-9837-555950f75269",
   "metadata": {},
   "outputs": [
    {
     "name": "stdout",
     "output_type": "stream",
     "text": [
      "[]\n"
     ]
    }
   ],
   "source": [
    "# 1. Rule-based Extraction: Look for patterns like \"Submitted by:\", \"Prepared by:\"\n",
    "possible_names_1 = []\n",
    "for i, token in enumerate(doc):\n",
    "    if token.text.lower() in (\"submitted\", \"prepared\", \"response\", \"input\"):\n",
    "        if doc[i+1].text.lower() == \"by\":\n",
    "            possible_names_1.append(\" \".join([t.text for t in doc[i+2:i+6] if t.text.isalpha()]))\n",
    "\n",
    "print(possible_names_1)"
   ]
  },
  {
   "cell_type": "code",
   "execution_count": 111,
   "id": "50e03e7a-9f06-425a-bbfb-88e940a7a632",
   "metadata": {},
   "outputs": [
    {
     "name": "stdout",
     "output_type": "stream",
     "text": [
      "['the Draft Sports Broadcasting Services Regulations', 'the South African Youth Council']\n"
     ]
    }
   ],
   "source": [
    "# 2. Extract from Header/Footer\n",
    "possible_names_2 = []\n",
    "for line in text.split(\"\\n\")[:5]:  # Check first 5 lines for header\n",
    "    possible_names_2.extend([ent.text for ent in nlp(line).ents if ent.label_ == \"ORG\"])\n",
    "for line in text.split(\"\\n\")[-5:]: # Check last 5 lines for footer\n",
    "    possible_names_2.extend([ent.text for ent in nlp(line).ents if ent.label_ == \"ORG\"])\n",
    "\n",
    "print(possible_names_2)"
   ]
  },
  {
   "cell_type": "code",
   "execution_count": 112,
   "id": "af684b9f-11a6-419c-87ba-a8822d332983",
   "metadata": {},
   "outputs": [
    {
     "name": "stdout",
     "output_type": "stream",
     "text": [
      "['the Draft Sports Broadcasting Services Regulations', 'the South African Youth Council', 'the South African Youth Council']\n"
     ]
    }
   ],
   "source": [
    "# 3. Extract from First Few Lines\n",
    "possible_names_3 = []\n",
    "possible_names_3.extend([ent.text for ent in nlp(\" \".join(text.split(\"\\n\")[:10])).ents if ent.label_ == \"ORG\"])\n",
    "\n",
    "print(possible_names_3)"
   ]
  },
  {
   "cell_type": "code",
   "execution_count": 113,
   "id": "484dc187-f7da-4f86-9429-65a6abdcf158",
   "metadata": {},
   "outputs": [
    {
     "name": "stdout",
     "output_type": "stream",
     "text": [
      "['SAYC']\n"
     ]
    }
   ],
   "source": [
    "# 4. Extract from Signature Section (New - Assumes signature is in last 10 lines)\n",
    "possible_names_4 = []\n",
    "possible_names_4.extend([ent.text for ent in nlp(\" \".join(text.split(\"\\n\")[-10:])).ents if ent.label_ == \"ORG\"])\n",
    "\n",
    "print(possible_names_4)"
   ]
  },
  {
   "cell_type": "code",
   "execution_count": 114,
   "id": "f34ef5c0-6029-4c6f-b997-0498aa913052",
   "metadata": {},
   "outputs": [
    {
     "name": "stdout",
     "output_type": "stream",
     "text": [
      "['the Draft Sports Broadcasting Services Regulations', 'the South African Youth Council', 'the South African Youth Council', 'SAYC', 'SAYC']\n"
     ]
    }
   ],
   "source": [
    "# 5. If no names found using above methods, extract all organizations\n",
    "possible_names_5 = []\n",
    "#if not possible_names:\n",
    "possible_names_5 = [ent.text for ent in doc.ents if ent.label_ == \"ORG\"]\n",
    "\n",
    "print(possible_names_5)"
   ]
  },
  {
   "cell_type": "code",
   "execution_count": 99,
   "id": "850bb382-4637-4219-9eee-d611e55c5670",
   "metadata": {},
   "outputs": [
    {
     "name": "stdout",
     "output_type": "stream",
     "text": [
      "the Draft Sports Broadcasting Services Regulations\n"
     ]
    },
    {
     "name": "stderr",
     "output_type": "stream",
     "text": [
      "/var/folders/36/3266hv_j31l96qxrj4pw5cyr0000gn/T/ipykernel_57786/1687954684.py:6: UserWarning: [W008] Evaluating Doc.similarity based on empty vectors.\n",
      "  nlp(name).similarity(nlp(last_lines)) +\n",
      "/var/folders/36/3266hv_j31l96qxrj4pw5cyr0000gn/T/ipykernel_57786/1687954684.py:7: UserWarning: [W008] Evaluating Doc.similarity based on empty vectors.\n",
      "  nlp(name).similarity(nlp(first_lines)) +\n",
      "/var/folders/36/3266hv_j31l96qxrj4pw5cyr0000gn/T/ipykernel_57786/1687954684.py:8: UserWarning: [W008] Evaluating Doc.similarity based on empty vectors.\n",
      "  nlp(name).similarity(nlp(text)))\n"
     ]
    }
   ],
   "source": [
    "# 6. Find the most similar name to the last few lines, first few lines, and the entire document (Modified)\n",
    "if possible_names:\n",
    "    last_lines = \" \".join(text.split(\"\\n\")[-5:])\n",
    "    first_lines = \" \".join(text.split(\"\\n\")[:5:])\n",
    "    most_similar_name = max(possible_names, key=lambda name: \n",
    "                           nlp(name).similarity(nlp(last_lines))\n",
    "                        + nlp(name).similarity(nlp(first_lines))\n",
    "#                        + nlp(name).similarity(nlp(text))) \n",
    "print(most_similar_name)"
   ]
  },
  {
   "cell_type": "code",
   "execution_count": null,
   "id": "a6b21122-afb4-4e5d-9fa1-f13bf88d44d9",
   "metadata": {},
   "outputs": [],
   "source": []
  }
 ],
 "metadata": {
  "kernelspec": {
   "display_name": "Python 3 (ipykernel)",
   "language": "python",
   "name": "python3"
  },
  "language_info": {
   "codemirror_mode": {
    "name": "ipython",
    "version": 3
   },
   "file_extension": ".py",
   "mimetype": "text/x-python",
   "name": "python",
   "nbconvert_exporter": "python",
   "pygments_lexer": "ipython3",
   "version": "3.12.4"
  }
 },
 "nbformat": 4,
 "nbformat_minor": 5
}
